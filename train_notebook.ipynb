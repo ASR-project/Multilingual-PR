{
  "cells": [
    {
      "cell_type": "code",
      "execution_count": null,
      "metadata": {
        "id": "kyYQaEdwuQ1_"
      },
      "outputs": [],
      "source": [
        "!git clone https://github.com/ASR-project/Multilingual-PR.git\n",
        "%cd Multilingual-PR\n",
        "!pip install -q -r requirements.txt\n",
        "!pip install pytorch_lightning==1.5.10\n",
        "!apt-get install espeak -y"
      ]
    },
    {
      "cell_type": "code",
      "execution_count": null,
      "metadata": {
        "id": "6OwxeTlzwXAV"
      },
      "outputs": [],
      "source": [
        "import wandb\n",
        "!wandb login"
      ]
    },
    {
      "cell_type": "code",
      "execution_count": null,
      "metadata": {
        "id": "qLg-sGwEFSoL"
      },
      "outputs": [],
      "source": [
        "!python main.py --gpu 1 --num_workers 2 --language ru --subset ru --network_name WavLM --train True --num_proc 1 --enable_progress_bar False --lr 2e-2"
      ]
    }
  ],
  "metadata": {
    "accelerator": "GPU",
    "colab": {
      "background_execution": "on",
      "collapsed_sections": [],
      "machine_shape": "hm",
      "name": "train_notebook.ipynb",
      "provenance": []
    },
    "kernelspec": {
      "display_name": "Python 3",
      "name": "python3"
    },
    "language_info": {
      "name": "python"
    }
  },
  "nbformat": 4,
  "nbformat_minor": 0
}